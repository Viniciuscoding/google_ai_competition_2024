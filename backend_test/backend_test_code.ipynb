{
 "cells": [
  {
   "cell_type": "code",
   "execution_count": 8,
   "id": "32a2660c-a2c5-4b45-8a33-1449fd4a05ac",
   "metadata": {
    "tags": []
   },
   "outputs": [],
   "source": [
    "# pip install -r requirements.txt"
   ]
  },
  {
   "cell_type": "code",
   "execution_count": 1,
   "id": "19947c41-cae7-4713-853f-1c1085e7b790",
   "metadata": {},
   "outputs": [
    {
     "name": "stderr",
     "output_type": "stream",
     "text": [
      "c:\\Users\\ron\\AppData\\Local\\Programs\\Python\\Python311\\Lib\\site-packages\\tqdm\\auto.py:21: TqdmWarning: IProgress not found. Please update jupyter and ipywidgets. See https://ipywidgets.readthedocs.io/en/stable/user_install.html\n",
      "  from .autonotebook import tqdm as notebook_tqdm\n",
      "C:\\Users\\ron\\AppData\\Local\\Temp\\ipykernel_22064\\878826880.py:10: LangChainDeprecationWarning: As of langchain-core 0.3.0, LangChain uses pydantic v2 internally. The langchain_core.pydantic_v1 module was a compatibility shim for pydantic v1, and should no longer be used. Please update the code to import from Pydantic directly.\n",
      "\n",
      "For example, replace imports like: `from langchain_core.pydantic_v1 import BaseModel`\n",
      "with: `from pydantic import BaseModel`\n",
      "or the v1 compatibility namespace if you are working in a code base that has not been fully upgraded to pydantic 2 yet. \tfrom pydantic.v1 import BaseModel\n",
      "\n",
      "  from topic_detection_function_vin import detect_topics_sentiment\n"
     ]
    }
   ],
   "source": [
    "import os\n",
    "from flask import Flask, request, jsonify\n",
    "from youtube_transcript_api import YouTubeTranscriptApi\n",
    "from langdetect import detect\n",
    "import google.generativeai as genai\n",
    "from dotenv import load_dotenv\n",
    "from Gemini_Video_Summary import Gemini_Summarization\n",
    "from configured_chat import ConfiguredChat\n",
    "# from topic_detection_function import detect_topics_sentiment\n",
    "from topic_detection_function_vin import detect_topics_sentiment\n",
    "from Vin_Gemini_Video_Summary import Transcription#, Translation\n",
    "from configs import VIN_SUMMARY_PROMPT, VIN_TOPIC, VIN_SENTIMENT_ANALYSIS\n",
    "\n",
    "# Load the .env file\n",
    "load_dotenv('C:\\\\Users\\\\vinid\\\\google_competition\\\\geminihackathon24\\\\.env')\n",
    "# Accessing the environment variables\n",
    "GEMINI_API_KEY = os.getenv('GEMINI_API_KEY')\n",
    "GOOGLE_API_KEY = os.getenv('GOOGLE_API_KEY')"
   ]
  },
  {
   "cell_type": "code",
   "execution_count": 12,
   "id": "52ff9e8f-0e65-40fe-bfa9-fb31330d8a9f",
   "metadata": {},
   "outputs": [],
   "source": [
    "GOOGLE_API_KEY"
   ]
  },
  {
   "cell_type": "code",
   "execution_count": 3,
   "id": "c696ff8f-8565-4acb-ade1-7d437d4a62d1",
   "metadata": {},
   "outputs": [],
   "source": [
    "from IPython.display import Markdown"
   ]
  },
  {
   "cell_type": "code",
   "execution_count": 4,
   "id": "5872289a-6b6a-42e3-adcb-4c290caedf2c",
   "metadata": {},
   "outputs": [],
   "source": [
    "# pip install -r requirements.txt"
   ]
  },
  {
   "cell_type": "code",
   "execution_count": 5,
   "id": "4e554b79-615c-456f-af76-91ee092117b6",
   "metadata": {},
   "outputs": [],
   "source": [
    "url = \"https://www.youtube.com/watch?v=P6grAoS-muM\""
   ]
  },
  {
   "cell_type": "code",
   "execution_count": 6,
   "id": "6f1a2e35-6151-4313-a46e-efe8f10718d7",
   "metadata": {},
   "outputs": [
    {
     "data": {
      "text/plain": [
       "'P6grAoS-muM'"
      ]
     },
     "execution_count": 6,
     "metadata": {},
     "output_type": "execute_result"
    }
   ],
   "source": [
    "video_id = url.split(\"=\")[1]\n",
    "summarizer = Gemini_Summarization\n",
    "video_id"
   ]
  },
  {
   "cell_type": "code",
   "execution_count": 7,
   "id": "8d9f711c-1788-4324-942a-0f20cfc85b74",
   "metadata": {},
   "outputs": [],
   "source": [
    "def get_transcript(video_id):\n",
    "    \"\"\"\n",
    "    Fetches and concatenates the transcript of a YouTube video.\n",
    "\n",
    "    Parameters:\n",
    "    video_id (str): The ID of the YouTube video.\n",
    "\n",
    "    Returns:\n",
    "    str: A string containing the concatenated transcript of the video.\n",
    "\n",
    "    Raises:\n",
    "    Exception: If there is an error in fetching the transcript.\n",
    "    \"\"\"\n",
    "    try:\n",
    "        transcript_list = YouTubeTranscriptApi.get_transcript(video_id)\n",
    "    except Exception as e:\n",
    "        raise e\n",
    "\n",
    "    transcript = \" \".join([d[\"text\"] for d in transcript_list])\n",
    "    return transcript"
   ]
  },
  {
   "cell_type": "code",
   "execution_count": 8,
   "id": "21f89c82-6032-4d12-b2f8-949268d13a87",
   "metadata": {},
   "outputs": [],
   "source": [
    "transcript = get_transcript(video_id)"
   ]
  },
  {
   "cell_type": "code",
   "execution_count": 9,
   "id": "30526d02-ec6d-4918-9017-0583208f38b9",
   "metadata": {},
   "outputs": [
    {
     "data": {
      "text/plain": [
       "\"[Music] for our second story tonight we're going to keep talking about immigration I'm intimately familiar with the US immigration process having finally become a citizen in 2019 it was a long stressful process C by a moving naturalization ceremony at which among other things I gave this awkward thumbs up and also I got this little flag but one part of the ceremony stuck in my head and it's something millions of naturalized citizens have experienced his footage from a different ceremony that same year where they explain what's about to happen at this time please direct your attention to the front uh for a congratulatory message from president Donald Trump followed by an inspirational video presentation of God Bless the USA by Lee Greenwood it's true right after a message from the president everyone there had to sit through a music video for Lee Greenwood's God Bless the USA and it's exactly as weird as it sounds here is what it was like in that room and I'm proud to be American where at least I know I'm free and I won't forget the men who di who gave that right to me and I gladly stand up next to you and today ain't no doubt I love this God Bless the USA [Music] yeah at one of the most meaningful moments of your life everyone feels compelled to awkwardly wave their little flag around while thinking how long is this song exactly and I got curious about the presence of that song at the ceremony so we did some digging but before we get into any of that a bit of background on God Bless the USA which is undeniably a very patriotic song since it's release in 1984 it's had multiple surges in popularity usually at difficult moments for the country General Norman Schwarz goof is said to have played the song to his staff the night before Operation Desert Storm and after 9/11 it was so ubiquitous it re-entered the singles charts peing at number 16 and while Lee Greenwoods repeatedly claimed his song is apolitical he definitely isn't he's performed it at a lot of conservative events over the years here he is singing it for Ronald Reagan at the 1988 RNC here he is modifying the words to God bless the NRA for one of their national conventions and here he is becoming the third person ever inducted into the CPAC Hall of Fame while receiving something that looks less like an award and more like the world's first Ferrero rche pigeon more recently Greenwood's been a big booster for president Trump he played his inaugural introduced Trump at this year's Republican convention and serenad him early this month when he returned to Butler Pennsylvania making his music the second worst thing to happen to someone's ears there now interestingly Greenwoods never had a hit anywhere close to God Bless the USA something he insists he's totally fine with he said if you're going to have to be known for something be known for something really powerful and really good I'd hate to have purple rain or Margaritaville be my signature song which is just a wild driveby against two objectively better artists you'd hate to be known for Margaritaville a song that became a restaurant franchise and a Broadway musical  and I'm not even touching the Purple Rain thing because Prince isn't known for Purple Rain he's known for being Prince except for in the '90s when he was known for being whatever the this is but but to be clear his signature song is all of them but the truth is a lot of people do love God Bless the USA and Greenwood's found as many ways as possible to monetize that fact selling God Bless the USA fireworks a children's book silver coins and even this introducing the limited edition God Bless the USA Bible inspired by Lee Greenwood's patriotic Anthem but God Bless the USA large print leatherbound King James Bible also contains America's founding documents the US Constitution the Bill of Rights the Declaration of Independence and the Pledge of Allegiance along with the handwritten chorus to Lee Greenwood song God Bless the USA now if doing that to a Bible seems a bit odd to you you are not alone even Christianity Today published a blog post criticizing it saying we agreed that it's essential to know the contents of this nation's founding documents we do not believe however that they should be published as though they are an extension of God's word a line of critique the president of the marketing company that created the Bible responded to by saying it's got separation pages to which I really hope Christianity Today responded ooh separation Pages la dah we didn't know it had separation Pages you but they probably didn't do that because you know also for one it's worth this doesn't really look separated that's the printed words of the Bible next to the handwritten words of a song chorus looking like a yearbook signature from your worst classmate proud to be an American where at least I know I'm free Jesus Christ Dillan see just write keep in touch space is limited and you're not even hot oh oh one more thing that Bible costs $60 and if you're thinking who'd be so nakedly crass to be associated with a $60 Lee Greenwood branded Bible you already know the answer to that I'm proud to be partnering with my very good friend Lee Greenwood who doesn't love his song God Bless the USA in connection with promoting the God Bless the USA Bible all Americans need a Bible in their home and I have many it's my favorite book it's a lot of people's favorite book sure yeah sure it's your favorite book that is why the most famous time you ever seen with the Bible you held it like a model on Deal or No Deal showing off the briefcase number then like you're about to kill a mosquito with it and then just stared at it like you'd never seen a book before fun fact Trump apparently made $300,000 for endorsing that Bible we asked Lee Greenwood how much he made and he declined to answer but said yes I have made money from the Bible it is part of business and it doesn't end there in 2016 Greenwood filed a trademark for the phrase God Bless the USA stating it to be used on accent pillows decorative centerpieces of wood decorative wall hangings not of textile home decor and accessories basically the entire left side of any homegood store that application was rejected in 2017 and again on appeal in 2020 because as one article put it the Trademark Office regularly rejects proposed marks where consumers would likely perceive them as merely communicating the ordinary meaning of words a truly fantastic reason to refuse a trademark we'd love to help you but legally speaking you're basic but but that does make sense God Bless the USA is clearly a generic sentiment it certainly no it's 5:00 somewhere a phrase successfully trademarked by the way by Margaritaville Enterprises NLC suck it the point is Lee Greenwood is clearly very focused on making money for Lee Greenwood even when doing things that might appear altruistic just watch as he makes this special offer regarding an upcoming concert in all of our shows I don't care where they are we always honor our veterans we want to make sure that veterans and their caregivers can come to our performance so if your listeners will go to our website Le greenwood.com and adopt a vet for $100 you can put a vet and a caregiver in a seat to watch this amazing television production but that's not charity he's not giving anything away he's just getting a different person to pay $100 for tickets to his concert and telling people to make sure veterans can come at seemingly no Financial cost to himself it's not that phrase about our vets all gave some some gave all Lee gets 4 % of the door and all that brings us back to his song's Presence at my and many other citizenship ceremonies because even that has been a revenue stream for him because when Greenwood's reps found out his song was being played at ceremonies they apparently forced USCIS to enter into a settlement negotiations to compensate him we we found that sentence in a government commissioned report on intellectual property law but it didn't contain much info on what's happened since but we wanted to know more so a few years ago we filed a freedom of Information Act request and found out the government ultimately paid $22,000 to Universal Music Greenwood's public music publisher for a six-year licensing contract including nearly four years in back pay which is both a surprisingly small amount of money and also I would argue $22,000 too much but but it gets much weirder from there because in 2018 the government signed a new deal to license the publishing rights for around $700 a year but then during the pandemic there was a snag with payments because the government wanted to pay with a credit credit card but Universal insisted it couldn't take credit card payments I cannot tell you how many emails about this particular problem there were in the wake of that issue there was apparently a lot of confusion about whether the government could use the song at ceremonies or not because we turned up emails between immigration employees like is the Lee Greenwood song allowed now and I want to make sure I'm not losing my mind have we been given the okay to play Lee Greenwood again there's even an exchange with someone asking am I the only one who loves that song and getting the very firm reply yes yes you are eventually it became clear they didn't have a license to use the song anymore and staffers were told last November it is very important to reiterate that we no longer have the licensing rights to play The League Greenwood God Bless the USA song a message that still didn't seem to get through though given a news article from this may about a New Jersey ceremony mentions new citizens being called out one at a time as leag Greenwoods God Bless the USA played and honestly I'm not sure why it's being played at so at all not just contractually or even musically but because Greenwood's past remarks about immigrants have been to say the least off message here he is a few years ago at CPAC here we are at at a free country we can do what we want we have immigrants who come here all the time they need to know this they need to know we're still a western country that believes in God that's it no that is not it and fellow immigrants I cannot stress this enough do not listen to Lee Greenwood because among other things you will fail your city citizenship test the fact Americans are free to have any religion or none whatsoever is an answer to four separate questions on it including what is freedom of religion so pay attention to what's actually on the test not the man dressed like a lone shark in mour and when it comes to undocumented immigration Greenwood will quickly junk to the negative like this my song God Bless the USA as used in the welcome film along with the national anthem and the welcome from the president of the United States that makes me extremely proud what does not make me proud is that anybody any Administration prior who has not sealed our border and stopped people from China from uh Iran or any terrorist organization who would fly to Mexico and come across the border illegally filter into our nation and waiting till they're told to be the next terrorist attack it is coming okay that is obviously idiotic but I love the idea aspir terrorists are just sitting around and waiting to be told they're America's next terrorist attack like they're on Bravo's most controversial new reality show and look look maybe you can look past all this the fact Greenwood's a tacky Bible salesman with views completely at odds with everything a naturalization ceremony represents maybe you can stomach his song being used on the ground it's a uniquely American tribute to this singular country but is it because it turns out just five years after he released God B Bless the USA he released another song and it's going to sound very familiar to you until it suddenly doesn't and I'm proud in Canada where at least I know I'm free and I won't forget the men who died who gave that to me and I'm gladly stand up next to you and defend her still today cuz there ain't no doubt I love this lady God bless you Canada that doesn't get it doesn't even Ryme it doesn't rhyme you cannot keep defend her still today if you're not willing to sing God bless you Canada you can't do it but the point is he took his quintessentially American song and switched a few words so it' be about Canada instead the rest of it is in just find and replacing Canadian places for American ones take a listen of NOA SC to the forest in BC Montreal to win a pit from SE shining sea come on you can't just pack your song in with place names like a Mad Libs and call it a day you know why because you'll get real YouTube comments like this one say I am from Rwanda and Mr Greenwood has not made a version for us yet see it is slippery sloly all of this is to say for multiple reasons I'd argue Lee Greenwood song should never again be played at citizenship ceremonies because they deserve one genuinely unique to this country a song that celebrates the nation new Americans are about to join and and the process that they've been through while also not soft pedling some hard truths about it and the good news is I think we actually have the perfect song and it and it's performed by an actual American treasure and not only will we not charge the government $700 a year for it we're not we'll actually pay them $71 a year if they agree to play it at naturalization ceremonies from now on and I could tell you more about it but honestly I think it's probably best just to show it to you you studied hard you did your best filled out the forms and pass the test now you're part of a land that so God bless and starting today you're American there corn dog and apple pie fireworks lighing up the sky NASCAR Rodeo barbecue that's st's American now so are you you learned our presidents and our laws I think it's time to mention our flaws we're a real big country with real big problems we're kind of hoping you could help us solve them tell evangelist and fossil FS metal detectives and all our schools private prisons in Mountain Dew that's American now they're your problem too student dead and CT the war on drug Scientology B and Airlines and Tad  Cruise they're all Americans now so are [Music] you noway it's harder to be free hard to be the country that we ought to be you weren't born here you volunteered to join your faith to the Great and the just plain [Music] we so get ready for truck nuts and Jet tricks Santa and food on sticks thousands of medical bankruptcies Plantation weddings chu cheese big Roes and LL tornado Spirit Halloween holy I just remember the coup that's American we sure ain't perfect but here's do the fight the brightest future is the one you right wherever you come from wherever you wrong fellow [Applause] Americans fellow Americans fellow Americans welome for that's all sh thank so much for watching we'll see you next week good [Music] [Applause] night truck holy I just remember the [Music]\""
      ]
     },
     "execution_count": 9,
     "metadata": {},
     "output_type": "execute_result"
    }
   ],
   "source": [
    "transcript"
   ]
  },
  {
   "cell_type": "code",
   "execution_count": 11,
   "id": "15e26b83-103e-493c-b653-bca0995afe9e",
   "metadata": {},
   "outputs": [
    {
     "ename": "DefaultCredentialsError",
     "evalue": "\n  No API_KEY or ADC found. Please either:\n    - Set the `GOOGLE_API_KEY` environment variable.\n    - Manually pass the key with `genai.configure(api_key=my_api_key)`.\n    - Or set up Application Default Credentials, see https://ai.google.dev/gemini-api/docs/oauth for more information.",
     "output_type": "error",
     "traceback": [
      "\u001b[1;31m---------------------------------------------------------------------------\u001b[0m",
      "\u001b[1;31mDefaultCredentialsError\u001b[0m                   Traceback (most recent call last)",
      "Cell \u001b[1;32mIn[11], line 1\u001b[0m\n\u001b[1;32m----> 1\u001b[0m final_summary \u001b[38;5;241m=\u001b[39m \u001b[43msummarizer\u001b[49m\u001b[38;5;241;43m.\u001b[39;49m\u001b[43mgenerate_response\u001b[49m\u001b[43m(\u001b[49m\u001b[43mtranscript\u001b[49m\u001b[43m,\u001b[49m\u001b[43m \u001b[49m\u001b[43mVIN_SUMMARY_PROMPT\u001b[49m\u001b[43m,\u001b[49m\u001b[43m \u001b[49m\u001b[43mGEMINI_API_KEY\u001b[49m\u001b[43m)\u001b[49m\n",
      "File \u001b[1;32mc:\\Users\\ron\\Documents\\GitHub\\google_ai_competition_2024\\backend_test\\Gemini_Video_Summary.py:111\u001b[0m, in \u001b[0;36mGemini_Summarization.generate_response\u001b[1;34m(transcription, prompt, api, model)\u001b[0m\n\u001b[0;32m    109\u001b[0m model \u001b[38;5;241m=\u001b[39m genai\u001b[38;5;241m.\u001b[39mGenerativeModel(model)\n\u001b[0;32m    110\u001b[0m theprompt \u001b[38;5;241m=\u001b[39m prompt \u001b[38;5;241m+\u001b[39m transcription\n\u001b[1;32m--> 111\u001b[0m response \u001b[38;5;241m=\u001b[39m \u001b[43mmodel\u001b[49m\u001b[38;5;241;43m.\u001b[39;49m\u001b[43mgenerate_content\u001b[49m\u001b[43m(\u001b[49m\u001b[43mtheprompt\u001b[49m\u001b[43m)\u001b[49m\n\u001b[0;32m    112\u001b[0m result \u001b[38;5;241m=\u001b[39m \u001b[38;5;124m'\u001b[39m\u001b[38;5;124m'\u001b[39m\u001b[38;5;241m.\u001b[39mjoin([p\u001b[38;5;241m.\u001b[39mtext \u001b[38;5;28;01mfor\u001b[39;00m p \u001b[38;5;129;01min\u001b[39;00m response\u001b[38;5;241m.\u001b[39mcandidates[\u001b[38;5;241m0\u001b[39m]\u001b[38;5;241m.\u001b[39mcontent\u001b[38;5;241m.\u001b[39mparts])\n\u001b[0;32m    113\u001b[0m \u001b[38;5;28;01mreturn\u001b[39;00m result\n",
      "File \u001b[1;32mc:\\Users\\ron\\AppData\\Local\\Programs\\Python\\Python311\\Lib\\site-packages\\google\\generativeai\\generative_models.py:317\u001b[0m, in \u001b[0;36mGenerativeModel.generate_content\u001b[1;34m(self, contents, generation_config, safety_settings, stream, tools, tool_config, request_options)\u001b[0m\n\u001b[0;32m    314\u001b[0m     request\u001b[38;5;241m.\u001b[39mcontents[\u001b[38;5;241m-\u001b[39m\u001b[38;5;241m1\u001b[39m]\u001b[38;5;241m.\u001b[39mrole \u001b[38;5;241m=\u001b[39m _USER_ROLE\n\u001b[0;32m    316\u001b[0m \u001b[38;5;28;01mif\u001b[39;00m \u001b[38;5;28mself\u001b[39m\u001b[38;5;241m.\u001b[39m_client \u001b[38;5;129;01mis\u001b[39;00m \u001b[38;5;28;01mNone\u001b[39;00m:\n\u001b[1;32m--> 317\u001b[0m     \u001b[38;5;28mself\u001b[39m\u001b[38;5;241m.\u001b[39m_client \u001b[38;5;241m=\u001b[39m \u001b[43mclient\u001b[49m\u001b[38;5;241;43m.\u001b[39;49m\u001b[43mget_default_generative_client\u001b[49m\u001b[43m(\u001b[49m\u001b[43m)\u001b[49m\n\u001b[0;32m    319\u001b[0m \u001b[38;5;28;01mif\u001b[39;00m request_options \u001b[38;5;129;01mis\u001b[39;00m \u001b[38;5;28;01mNone\u001b[39;00m:\n\u001b[0;32m    320\u001b[0m     request_options \u001b[38;5;241m=\u001b[39m {}\n",
      "File \u001b[1;32mc:\\Users\\ron\\AppData\\Local\\Programs\\Python\\Python311\\Lib\\site-packages\\google\\generativeai\\client.py:358\u001b[0m, in \u001b[0;36mget_default_generative_client\u001b[1;34m()\u001b[0m\n\u001b[0;32m    357\u001b[0m \u001b[38;5;28;01mdef\u001b[39;00m \u001b[38;5;21mget_default_generative_client\u001b[39m() \u001b[38;5;241m-\u001b[39m\u001b[38;5;241m>\u001b[39m glm\u001b[38;5;241m.\u001b[39mGenerativeServiceClient:\n\u001b[1;32m--> 358\u001b[0m     \u001b[38;5;28;01mreturn\u001b[39;00m \u001b[43m_client_manager\u001b[49m\u001b[38;5;241;43m.\u001b[39;49m\u001b[43mget_default_client\u001b[49m\u001b[43m(\u001b[49m\u001b[38;5;124;43m\"\u001b[39;49m\u001b[38;5;124;43mgenerative\u001b[39;49m\u001b[38;5;124;43m\"\u001b[39;49m\u001b[43m)\u001b[49m\n",
      "File \u001b[1;32mc:\\Users\\ron\\AppData\\Local\\Programs\\Python\\Python311\\Lib\\site-packages\\google\\generativeai\\client.py:287\u001b[0m, in \u001b[0;36m_ClientManager.get_default_client\u001b[1;34m(self, name)\u001b[0m\n\u001b[0;32m    285\u001b[0m client \u001b[38;5;241m=\u001b[39m \u001b[38;5;28mself\u001b[39m\u001b[38;5;241m.\u001b[39mclients\u001b[38;5;241m.\u001b[39mget(name)\n\u001b[0;32m    286\u001b[0m \u001b[38;5;28;01mif\u001b[39;00m client \u001b[38;5;129;01mis\u001b[39;00m \u001b[38;5;28;01mNone\u001b[39;00m:\n\u001b[1;32m--> 287\u001b[0m     client \u001b[38;5;241m=\u001b[39m \u001b[38;5;28;43mself\u001b[39;49m\u001b[38;5;241;43m.\u001b[39;49m\u001b[43mmake_client\u001b[49m\u001b[43m(\u001b[49m\u001b[43mname\u001b[49m\u001b[43m)\u001b[49m\n\u001b[0;32m    288\u001b[0m     \u001b[38;5;28mself\u001b[39m\u001b[38;5;241m.\u001b[39mclients[name] \u001b[38;5;241m=\u001b[39m client\n\u001b[0;32m    289\u001b[0m \u001b[38;5;28;01mreturn\u001b[39;00m client\n",
      "File \u001b[1;32mc:\\Users\\ron\\AppData\\Local\\Programs\\Python\\Python311\\Lib\\site-packages\\google\\generativeai\\client.py:247\u001b[0m, in \u001b[0;36m_ClientManager.make_client\u001b[1;34m(self, name)\u001b[0m\n\u001b[0;32m    240\u001b[0m \u001b[38;5;28;01mexcept\u001b[39;00m ga_exceptions\u001b[38;5;241m.\u001b[39mDefaultCredentialsError \u001b[38;5;28;01mas\u001b[39;00m e:\n\u001b[0;32m    241\u001b[0m     e\u001b[38;5;241m.\u001b[39margs \u001b[38;5;241m=\u001b[39m (\n\u001b[0;32m    242\u001b[0m         \u001b[38;5;124m\"\u001b[39m\u001b[38;5;130;01m\\n\u001b[39;00m\u001b[38;5;124m  No API_KEY or ADC found. Please either:\u001b[39m\u001b[38;5;130;01m\\n\u001b[39;00m\u001b[38;5;124m\"\u001b[39m\n\u001b[0;32m    243\u001b[0m         \u001b[38;5;124m\"\u001b[39m\u001b[38;5;124m    - Set the `GOOGLE_API_KEY` environment variable.\u001b[39m\u001b[38;5;130;01m\\n\u001b[39;00m\u001b[38;5;124m\"\u001b[39m\n\u001b[0;32m    244\u001b[0m         \u001b[38;5;124m\"\u001b[39m\u001b[38;5;124m    - Manually pass the key with `genai.configure(api_key=my_api_key)`.\u001b[39m\u001b[38;5;130;01m\\n\u001b[39;00m\u001b[38;5;124m\"\u001b[39m\n\u001b[0;32m    245\u001b[0m         \u001b[38;5;124m\"\u001b[39m\u001b[38;5;124m    - Or set up Application Default Credentials, see https://ai.google.dev/gemini-api/docs/oauth for more information.\u001b[39m\u001b[38;5;124m\"\u001b[39m,\n\u001b[0;32m    246\u001b[0m     )\n\u001b[1;32m--> 247\u001b[0m     \u001b[38;5;28;01mraise\u001b[39;00m e\n\u001b[0;32m    249\u001b[0m \u001b[38;5;28;01mif\u001b[39;00m \u001b[38;5;129;01mnot\u001b[39;00m \u001b[38;5;28mself\u001b[39m\u001b[38;5;241m.\u001b[39mdefault_metadata:\n\u001b[0;32m    250\u001b[0m     \u001b[38;5;28;01mreturn\u001b[39;00m client\n",
      "File \u001b[1;32mc:\\Users\\ron\\AppData\\Local\\Programs\\Python\\Python311\\Lib\\site-packages\\google\\generativeai\\client.py:239\u001b[0m, in \u001b[0;36m_ClientManager.make_client\u001b[1;34m(self, name)\u001b[0m\n\u001b[0;32m    237\u001b[0m \u001b[38;5;28;01mtry\u001b[39;00m:\n\u001b[0;32m    238\u001b[0m     \u001b[38;5;28;01mwith\u001b[39;00m patch_colab_gce_credentials():\n\u001b[1;32m--> 239\u001b[0m         client \u001b[38;5;241m=\u001b[39m \u001b[38;5;28;43mcls\u001b[39;49m\u001b[43m(\u001b[49m\u001b[38;5;241;43m*\u001b[39;49m\u001b[38;5;241;43m*\u001b[39;49m\u001b[38;5;28;43mself\u001b[39;49m\u001b[38;5;241;43m.\u001b[39;49m\u001b[43mclient_config\u001b[49m\u001b[43m)\u001b[49m\n\u001b[0;32m    240\u001b[0m \u001b[38;5;28;01mexcept\u001b[39;00m ga_exceptions\u001b[38;5;241m.\u001b[39mDefaultCredentialsError \u001b[38;5;28;01mas\u001b[39;00m e:\n\u001b[0;32m    241\u001b[0m     e\u001b[38;5;241m.\u001b[39margs \u001b[38;5;241m=\u001b[39m (\n\u001b[0;32m    242\u001b[0m         \u001b[38;5;124m\"\u001b[39m\u001b[38;5;130;01m\\n\u001b[39;00m\u001b[38;5;124m  No API_KEY or ADC found. Please either:\u001b[39m\u001b[38;5;130;01m\\n\u001b[39;00m\u001b[38;5;124m\"\u001b[39m\n\u001b[0;32m    243\u001b[0m         \u001b[38;5;124m\"\u001b[39m\u001b[38;5;124m    - Set the `GOOGLE_API_KEY` environment variable.\u001b[39m\u001b[38;5;130;01m\\n\u001b[39;00m\u001b[38;5;124m\"\u001b[39m\n\u001b[0;32m    244\u001b[0m         \u001b[38;5;124m\"\u001b[39m\u001b[38;5;124m    - Manually pass the key with `genai.configure(api_key=my_api_key)`.\u001b[39m\u001b[38;5;130;01m\\n\u001b[39;00m\u001b[38;5;124m\"\u001b[39m\n\u001b[0;32m    245\u001b[0m         \u001b[38;5;124m\"\u001b[39m\u001b[38;5;124m    - Or set up Application Default Credentials, see https://ai.google.dev/gemini-api/docs/oauth for more information.\u001b[39m\u001b[38;5;124m\"\u001b[39m,\n\u001b[0;32m    246\u001b[0m     )\n",
      "File \u001b[1;32mc:\\Users\\ron\\AppData\\Local\\Programs\\Python\\Python311\\Lib\\site-packages\\google\\ai\\generativelanguage_v1beta\\services\\generative_service\\client.py:687\u001b[0m, in \u001b[0;36mGenerativeServiceClient.__init__\u001b[1;34m(self, credentials, transport, client_options, client_info)\u001b[0m\n\u001b[0;32m    678\u001b[0m transport_init: Union[\n\u001b[0;32m    679\u001b[0m     Type[GenerativeServiceTransport],\n\u001b[0;32m    680\u001b[0m     Callable[\u001b[38;5;241m.\u001b[39m\u001b[38;5;241m.\u001b[39m\u001b[38;5;241m.\u001b[39m, GenerativeServiceTransport],\n\u001b[1;32m   (...)\u001b[0m\n\u001b[0;32m    684\u001b[0m     \u001b[38;5;28;01melse\u001b[39;00m cast(Callable[\u001b[38;5;241m.\u001b[39m\u001b[38;5;241m.\u001b[39m\u001b[38;5;241m.\u001b[39m, GenerativeServiceTransport], transport)\n\u001b[0;32m    685\u001b[0m )\n\u001b[0;32m    686\u001b[0m \u001b[38;5;66;03m# initialize with the provided callable or the passed in class\u001b[39;00m\n\u001b[1;32m--> 687\u001b[0m \u001b[38;5;28mself\u001b[39m\u001b[38;5;241m.\u001b[39m_transport \u001b[38;5;241m=\u001b[39m \u001b[43mtransport_init\u001b[49m\u001b[43m(\u001b[49m\n\u001b[0;32m    688\u001b[0m \u001b[43m    \u001b[49m\u001b[43mcredentials\u001b[49m\u001b[38;5;241;43m=\u001b[39;49m\u001b[43mcredentials\u001b[49m\u001b[43m,\u001b[49m\n\u001b[0;32m    689\u001b[0m \u001b[43m    \u001b[49m\u001b[43mcredentials_file\u001b[49m\u001b[38;5;241;43m=\u001b[39;49m\u001b[38;5;28;43mself\u001b[39;49m\u001b[38;5;241;43m.\u001b[39;49m\u001b[43m_client_options\u001b[49m\u001b[38;5;241;43m.\u001b[39;49m\u001b[43mcredentials_file\u001b[49m\u001b[43m,\u001b[49m\n\u001b[0;32m    690\u001b[0m \u001b[43m    \u001b[49m\u001b[43mhost\u001b[49m\u001b[38;5;241;43m=\u001b[39;49m\u001b[38;5;28;43mself\u001b[39;49m\u001b[38;5;241;43m.\u001b[39;49m\u001b[43m_api_endpoint\u001b[49m\u001b[43m,\u001b[49m\n\u001b[0;32m    691\u001b[0m \u001b[43m    \u001b[49m\u001b[43mscopes\u001b[49m\u001b[38;5;241;43m=\u001b[39;49m\u001b[38;5;28;43mself\u001b[39;49m\u001b[38;5;241;43m.\u001b[39;49m\u001b[43m_client_options\u001b[49m\u001b[38;5;241;43m.\u001b[39;49m\u001b[43mscopes\u001b[49m\u001b[43m,\u001b[49m\n\u001b[0;32m    692\u001b[0m \u001b[43m    \u001b[49m\u001b[43mclient_cert_source_for_mtls\u001b[49m\u001b[38;5;241;43m=\u001b[39;49m\u001b[38;5;28;43mself\u001b[39;49m\u001b[38;5;241;43m.\u001b[39;49m\u001b[43m_client_cert_source\u001b[49m\u001b[43m,\u001b[49m\n\u001b[0;32m    693\u001b[0m \u001b[43m    \u001b[49m\u001b[43mquota_project_id\u001b[49m\u001b[38;5;241;43m=\u001b[39;49m\u001b[38;5;28;43mself\u001b[39;49m\u001b[38;5;241;43m.\u001b[39;49m\u001b[43m_client_options\u001b[49m\u001b[38;5;241;43m.\u001b[39;49m\u001b[43mquota_project_id\u001b[49m\u001b[43m,\u001b[49m\n\u001b[0;32m    694\u001b[0m \u001b[43m    \u001b[49m\u001b[43mclient_info\u001b[49m\u001b[38;5;241;43m=\u001b[39;49m\u001b[43mclient_info\u001b[49m\u001b[43m,\u001b[49m\n\u001b[0;32m    695\u001b[0m \u001b[43m    \u001b[49m\u001b[43malways_use_jwt_access\u001b[49m\u001b[38;5;241;43m=\u001b[39;49m\u001b[38;5;28;43;01mTrue\u001b[39;49;00m\u001b[43m,\u001b[49m\n\u001b[0;32m    696\u001b[0m \u001b[43m    \u001b[49m\u001b[43mapi_audience\u001b[49m\u001b[38;5;241;43m=\u001b[39;49m\u001b[38;5;28;43mself\u001b[39;49m\u001b[38;5;241;43m.\u001b[39;49m\u001b[43m_client_options\u001b[49m\u001b[38;5;241;43m.\u001b[39;49m\u001b[43mapi_audience\u001b[49m\u001b[43m,\u001b[49m\n\u001b[0;32m    697\u001b[0m \u001b[43m\u001b[49m\u001b[43m)\u001b[49m\n",
      "File \u001b[1;32mc:\\Users\\ron\\AppData\\Local\\Programs\\Python\\Python311\\Lib\\site-packages\\google\\ai\\generativelanguage_v1beta\\services\\generative_service\\transports\\grpc.py:154\u001b[0m, in \u001b[0;36mGenerativeServiceGrpcTransport.__init__\u001b[1;34m(self, host, credentials, credentials_file, scopes, channel, api_mtls_endpoint, client_cert_source, ssl_channel_credentials, client_cert_source_for_mtls, quota_project_id, client_info, always_use_jwt_access, api_audience)\u001b[0m\n\u001b[0;32m    149\u001b[0m             \u001b[38;5;28mself\u001b[39m\u001b[38;5;241m.\u001b[39m_ssl_channel_credentials \u001b[38;5;241m=\u001b[39m grpc\u001b[38;5;241m.\u001b[39mssl_channel_credentials(\n\u001b[0;32m    150\u001b[0m                 certificate_chain\u001b[38;5;241m=\u001b[39mcert, private_key\u001b[38;5;241m=\u001b[39mkey\n\u001b[0;32m    151\u001b[0m             )\n\u001b[0;32m    153\u001b[0m \u001b[38;5;66;03m# The base transport sets the host, credentials and scopes\u001b[39;00m\n\u001b[1;32m--> 154\u001b[0m \u001b[38;5;28;43msuper\u001b[39;49m\u001b[43m(\u001b[49m\u001b[43m)\u001b[49m\u001b[38;5;241;43m.\u001b[39;49m\u001b[38;5;21;43m__init__\u001b[39;49m\u001b[43m(\u001b[49m\n\u001b[0;32m    155\u001b[0m \u001b[43m    \u001b[49m\u001b[43mhost\u001b[49m\u001b[38;5;241;43m=\u001b[39;49m\u001b[43mhost\u001b[49m\u001b[43m,\u001b[49m\n\u001b[0;32m    156\u001b[0m \u001b[43m    \u001b[49m\u001b[43mcredentials\u001b[49m\u001b[38;5;241;43m=\u001b[39;49m\u001b[43mcredentials\u001b[49m\u001b[43m,\u001b[49m\n\u001b[0;32m    157\u001b[0m \u001b[43m    \u001b[49m\u001b[43mcredentials_file\u001b[49m\u001b[38;5;241;43m=\u001b[39;49m\u001b[43mcredentials_file\u001b[49m\u001b[43m,\u001b[49m\n\u001b[0;32m    158\u001b[0m \u001b[43m    \u001b[49m\u001b[43mscopes\u001b[49m\u001b[38;5;241;43m=\u001b[39;49m\u001b[43mscopes\u001b[49m\u001b[43m,\u001b[49m\n\u001b[0;32m    159\u001b[0m \u001b[43m    \u001b[49m\u001b[43mquota_project_id\u001b[49m\u001b[38;5;241;43m=\u001b[39;49m\u001b[43mquota_project_id\u001b[49m\u001b[43m,\u001b[49m\n\u001b[0;32m    160\u001b[0m \u001b[43m    \u001b[49m\u001b[43mclient_info\u001b[49m\u001b[38;5;241;43m=\u001b[39;49m\u001b[43mclient_info\u001b[49m\u001b[43m,\u001b[49m\n\u001b[0;32m    161\u001b[0m \u001b[43m    \u001b[49m\u001b[43malways_use_jwt_access\u001b[49m\u001b[38;5;241;43m=\u001b[39;49m\u001b[43malways_use_jwt_access\u001b[49m\u001b[43m,\u001b[49m\n\u001b[0;32m    162\u001b[0m \u001b[43m    \u001b[49m\u001b[43mapi_audience\u001b[49m\u001b[38;5;241;43m=\u001b[39;49m\u001b[43mapi_audience\u001b[49m\u001b[43m,\u001b[49m\n\u001b[0;32m    163\u001b[0m \u001b[43m\u001b[49m\u001b[43m)\u001b[49m\n\u001b[0;32m    165\u001b[0m \u001b[38;5;28;01mif\u001b[39;00m \u001b[38;5;129;01mnot\u001b[39;00m \u001b[38;5;28mself\u001b[39m\u001b[38;5;241m.\u001b[39m_grpc_channel:\n\u001b[0;32m    166\u001b[0m     \u001b[38;5;66;03m# initialize with the provided callable or the default channel\u001b[39;00m\n\u001b[0;32m    167\u001b[0m     channel_init \u001b[38;5;241m=\u001b[39m channel \u001b[38;5;129;01mor\u001b[39;00m \u001b[38;5;28mtype\u001b[39m(\u001b[38;5;28mself\u001b[39m)\u001b[38;5;241m.\u001b[39mcreate_channel\n",
      "File \u001b[1;32mc:\\Users\\ron\\AppData\\Local\\Programs\\Python\\Python311\\Lib\\site-packages\\google\\ai\\generativelanguage_v1beta\\services\\generative_service\\transports\\base.py:100\u001b[0m, in \u001b[0;36mGenerativeServiceTransport.__init__\u001b[1;34m(self, host, credentials, credentials_file, scopes, quota_project_id, client_info, always_use_jwt_access, api_audience, **kwargs)\u001b[0m\n\u001b[0;32m     96\u001b[0m     credentials, _ \u001b[38;5;241m=\u001b[39m google\u001b[38;5;241m.\u001b[39mauth\u001b[38;5;241m.\u001b[39mload_credentials_from_file(\n\u001b[0;32m     97\u001b[0m         credentials_file, \u001b[38;5;241m*\u001b[39m\u001b[38;5;241m*\u001b[39mscopes_kwargs, quota_project_id\u001b[38;5;241m=\u001b[39mquota_project_id\n\u001b[0;32m     98\u001b[0m     )\n\u001b[0;32m     99\u001b[0m \u001b[38;5;28;01melif\u001b[39;00m credentials \u001b[38;5;129;01mis\u001b[39;00m \u001b[38;5;28;01mNone\u001b[39;00m \u001b[38;5;129;01mand\u001b[39;00m \u001b[38;5;129;01mnot\u001b[39;00m \u001b[38;5;28mself\u001b[39m\u001b[38;5;241m.\u001b[39m_ignore_credentials:\n\u001b[1;32m--> 100\u001b[0m     credentials, _ \u001b[38;5;241m=\u001b[39m \u001b[43mgoogle\u001b[49m\u001b[38;5;241;43m.\u001b[39;49m\u001b[43mauth\u001b[49m\u001b[38;5;241;43m.\u001b[39;49m\u001b[43mdefault\u001b[49m\u001b[43m(\u001b[49m\n\u001b[0;32m    101\u001b[0m \u001b[43m        \u001b[49m\u001b[38;5;241;43m*\u001b[39;49m\u001b[38;5;241;43m*\u001b[39;49m\u001b[43mscopes_kwargs\u001b[49m\u001b[43m,\u001b[49m\u001b[43m \u001b[49m\u001b[43mquota_project_id\u001b[49m\u001b[38;5;241;43m=\u001b[39;49m\u001b[43mquota_project_id\u001b[49m\n\u001b[0;32m    102\u001b[0m \u001b[43m    \u001b[49m\u001b[43m)\u001b[49m\n\u001b[0;32m    103\u001b[0m     \u001b[38;5;66;03m# Don't apply audience if the credentials file passed from user.\u001b[39;00m\n\u001b[0;32m    104\u001b[0m     \u001b[38;5;28;01mif\u001b[39;00m \u001b[38;5;28mhasattr\u001b[39m(credentials, \u001b[38;5;124m\"\u001b[39m\u001b[38;5;124mwith_gdch_audience\u001b[39m\u001b[38;5;124m\"\u001b[39m):\n",
      "File \u001b[1;32mc:\\Users\\ron\\AppData\\Local\\Programs\\Python\\Python311\\Lib\\site-packages\\google\\auth\\_default.py:693\u001b[0m, in \u001b[0;36mdefault\u001b[1;34m(scopes, request, quota_project_id, default_scopes)\u001b[0m\n\u001b[0;32m    685\u001b[0m             _LOGGER\u001b[38;5;241m.\u001b[39mwarning(\n\u001b[0;32m    686\u001b[0m                 \u001b[38;5;124m\"\u001b[39m\u001b[38;5;124mNo project ID could be determined. Consider running \u001b[39m\u001b[38;5;124m\"\u001b[39m\n\u001b[0;32m    687\u001b[0m                 \u001b[38;5;124m\"\u001b[39m\u001b[38;5;124m`gcloud config set project` or setting the \u001b[39m\u001b[38;5;132;01m%s\u001b[39;00m\u001b[38;5;124m \u001b[39m\u001b[38;5;124m\"\u001b[39m\n\u001b[0;32m    688\u001b[0m                 \u001b[38;5;124m\"\u001b[39m\u001b[38;5;124menvironment variable\u001b[39m\u001b[38;5;124m\"\u001b[39m,\n\u001b[0;32m    689\u001b[0m                 environment_vars\u001b[38;5;241m.\u001b[39mPROJECT,\n\u001b[0;32m    690\u001b[0m             )\n\u001b[0;32m    691\u001b[0m         \u001b[38;5;28;01mreturn\u001b[39;00m credentials, effective_project_id\n\u001b[1;32m--> 693\u001b[0m \u001b[38;5;28;01mraise\u001b[39;00m exceptions\u001b[38;5;241m.\u001b[39mDefaultCredentialsError(_CLOUD_SDK_MISSING_CREDENTIALS)\n",
      "\u001b[1;31mDefaultCredentialsError\u001b[0m: \n  No API_KEY or ADC found. Please either:\n    - Set the `GOOGLE_API_KEY` environment variable.\n    - Manually pass the key with `genai.configure(api_key=my_api_key)`.\n    - Or set up Application Default Credentials, see https://ai.google.dev/gemini-api/docs/oauth for more information."
     ]
    }
   ],
   "source": [
    "final_summary = summarizer.generate_response(transcript, VIN_SUMMARY_PROMPT, GEMINI_API_KEY)"
   ]
  },
  {
   "cell_type": "code",
   "execution_count": 32,
   "id": "4aa0bb94-c9dd-4be5-a0df-1ca0b2de4943",
   "metadata": {},
   "outputs": [
    {
     "data": {
      "text/markdown": [
       "**HBO Adapting Mario Kart into a Prestige Drama Series**\n",
       "\n",
       "- ***Premise:*** Set ten years after the fall of the kingdom, the series follows Mario, a grizzled smuggler tasked with transporting a princess to Rainbow Road while evading the tyrannical Bowser.\n",
       "- ***Production:*** Produced by the team behind \"The Last of Us\" and drawing inspiration from the \"Mario Kart\" game franchise.\n",
       "- ***Characters:*** The series features iconic characters like Luigi, Yoshi, Toad, and Goombas, reimagined with gritty realism.\n",
       "- ***Critical Reception:*** Initial reviews are mixed, with Variety praising the adaptation while the New York Times expresses skepticism.\n",
       "- ***Gameplay Elements:*** The series incorporates elements from the game, including power-ups and the infamous blue shell. However, it deviates from the source material by explaining certain mechanics, such as a character being rescued by Lakitu after falling off the track. \n"
      ],
      "text/plain": [
       "<IPython.core.display.Markdown object>"
      ]
     },
     "execution_count": 32,
     "metadata": {},
     "output_type": "execute_result"
    }
   ],
   "source": [
    "Markdown(final_summary)"
   ]
  },
  {
   "cell_type": "code",
   "execution_count": 33,
   "id": "a9f403e2-0d4d-4e53-b2a3-5f8eea0bcc73",
   "metadata": {},
   "outputs": [],
   "source": [
    "topics = summarizer.generate_response(transcript, VIN_TOPIC, GEMINI_API_KEY)"
   ]
  },
  {
   "cell_type": "code",
   "execution_count": 34,
   "id": "9034472b-c743-4d3f-86d0-24c8e8c59d35",
   "metadata": {},
   "outputs": [
    {
     "data": {
      "text/markdown": [
       "**HBO's Adaptation of Mario Kart**\n",
       "- ***Mario's Mission:*** _A gritty, live-action adaptation of Mario Kart where Mario, a smuggler, is tasked with transporting a princess to Rainbow Road while evading danger._\n",
       "- ***A World in Peril:*** _The Mushroom Kingdom has fallen, and hope is dwindling. The journey is fraught with danger and desperate characters._\n",
       "- ***Unlikely Allies:*** _Mario reluctantly teams up with Luigi, Yoshi, and Toad, each with their own troubled pasts and motivations._\n",
       "- ***Goomba Threat:*** _Goombas, depicted as fungal creatures with shoes for legs, pose a constant threat on the treacherous road._\n",
       "- ***Bowser's Shadow:*** _The looming threat of Bowser, the main antagonist, hangs over Mario's mission, adding to the tension._\n",
       "- ***Questionable Choices:*** _Critics express skepticism about HBO's decision to adapt Mario Kart into a dark and dramatic series._\n",
       "- ***Mario's Promise:*** _Despite the dangers, Mario assures the princess that he will get her to Rainbow Road, setting the stage for a perilous journey._\n",
       "- ***Crashing Repercussions:*** _A humorous take on the game's mechanics, where crashing is mitigated by a \"little guy in a cloud\" who retrieves karts._ \n"
      ],
      "text/plain": [
       "<IPython.core.display.Markdown object>"
      ]
     },
     "execution_count": 34,
     "metadata": {},
     "output_type": "execute_result"
    }
   ],
   "source": [
    "Markdown(topics)"
   ]
  },
  {
   "cell_type": "code",
   "execution_count": 35,
   "id": "afb67ec4-2701-4e61-948a-015f7976f64e",
   "metadata": {},
   "outputs": [],
   "source": [
    "sentiment = summarizer.generate_response(transcript, VIN_SENTIMENT_ANALYSIS, GEMINI_API_KEY)"
   ]
  },
  {
   "cell_type": "code",
   "execution_count": 36,
   "id": "5c7417cd-144b-4457-ba0c-d2c8b471b396",
   "metadata": {},
   "outputs": [
    {
     "data": {
      "text/markdown": [
       "## Sentiment Analysis of Mario Kart HBO Trailer Transcription:\n",
       "\n",
       "Here's a breakdown of the provided video transcription, analyzing it for sentiment, age rating, toxicity, and potential fake news:\n",
       "\n",
       "**1. Sentiment Analysis:**\n",
       "\n",
       "The overall sentiment of the transcription leans **neutral**. While there are elements of adventure and humor typical of the Mario Kart franchise, the framing within the context of an HBO-style drama introduces a more serious and dramatic undertone. \n",
       "\n",
       "* **Positive:** The trailer highlights elements of hope, camaraderie, and the classic Mario Kart racing spirit. Phrases like \"Let's-a go!\" and  \"You can do this!\" inject positivity.\n",
       "* **Neutral:**  Much of the dialogue provides exposition and sets the stage for the story. Character introductions and world-building elements contribute to a neutral sentiment.\n",
       "* **Negative:**  The trailer includes threats and danger (\"Everyone on this road wants us dead,\" \"Goomba. Fungus, wearing shoes for legs.\")  The presence of Bowser as the \"main bad guy\" and Mario's need to \"feel big\" suggest internal conflict and external threats.\n",
       "\n",
       "**2. Age Rating:**\n",
       "\n",
       "Based on the content, the age rating would likely be **PG-13**.\n",
       "\n",
       "* **Reasoning:** While the source material is a family-friendly video game, the trailer's tone suggests a more mature and dramatic adaptation. The presence of violence (Goombas as threats, characters wanting them dead), mild language (\"What the...\" implied), and suggestive themes (characters stating their sexuality, though not graphically) pushes the rating beyond PG. \n",
       "\n",
       "**3. Toxicity:**\n",
       "\n",
       "There are **no significant examples of toxicity** in the provided transcription. The dialogue remains relatively tame and within the bounds of a dramatic trailer.\n",
       "\n",
       "**4. Fake News:**\n",
       "\n",
       "The concept of a dramatic HBO Mario Kart series is **not presented as real**.  The transcription clearly uses humor and satire to parody the style of HBO's \"The Last of Us\" adaptation.  The over-the-top dramatic elements, comedic character reveals (\"I'm Yoshi. I'm bisexual.\"), and inclusion of exaggerated critical responses (\"HBO picked the wrong game,\" \"This ain't it\") make it clear that this is a fictional and comedic take on a Mario Kart adaptation, not actual news. \n"
      ],
      "text/plain": [
       "<IPython.core.display.Markdown object>"
      ]
     },
     "execution_count": 36,
     "metadata": {},
     "output_type": "execute_result"
    }
   ],
   "source": [
    "Markdown(sentiment)"
   ]
  }
 ],
 "metadata": {
  "environment": {
   "kernel": "python3",
   "name": "common-cpu.m119",
   "type": "gcloud",
   "uri": "us-docker.pkg.dev/deeplearning-platform-release/gcr.io/base-cpu:m119"
  },
  "kernelspec": {
   "display_name": "Python 3",
   "language": "python",
   "name": "python3"
  },
  "language_info": {
   "codemirror_mode": {
    "name": "ipython",
    "version": 3
   },
   "file_extension": ".py",
   "mimetype": "text/x-python",
   "name": "python",
   "nbconvert_exporter": "python",
   "pygments_lexer": "ipython3",
   "version": "3.11.6"
  }
 },
 "nbformat": 4,
 "nbformat_minor": 5
}
